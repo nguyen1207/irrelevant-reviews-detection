{
 "cells": [
  {
   "cell_type": "code",
   "execution_count": null,
   "metadata": {},
   "outputs": [],
   "source": [
    "import pandas as pd\n",
    "import glob\n",
    "import os"
   ]
  },
  {
   "cell_type": "code",
   "execution_count": null,
   "metadata": {},
   "outputs": [],
   "source": [
    "weekly_files = glob.glob(os.path.join(\"../../data/clean\", \"*.xlsx\"))\n",
    "weekly_df = pd.concat((pd.read_excel(f) for f in weekly_files))\n",
    "weekly_df"
   ]
  },
  {
   "cell_type": "code",
   "execution_count": null,
   "metadata": {},
   "outputs": [],
   "source": [
    "weekly_df[weekly_df.isna().any(axis=1)]"
   ]
  },
  {
   "cell_type": "code",
   "execution_count": null,
   "metadata": {},
   "outputs": [],
   "source": [
    "weekly_df.dropna(inplace=True)\n",
    "weekly_df.to_csv('data.csv', index=False)"
   ]
  },
  {
   "cell_type": "code",
   "execution_count": null,
   "metadata": {},
   "outputs": [],
   "source": [
    "weekly_df[weekly_df['class'] == 'class']"
   ]
  },
  {
   "cell_type": "code",
   "execution_count": null,
   "metadata": {},
   "outputs": [],
   "source": [
    "weekly_files = glob.glob(os.path.join(\"./weekly\", \"*.xlsx\"))\n",
    "weekly_df = pd.concat((pd.read_excel(f) for f in weekly_files))\n",
    "weekly_df"
   ]
  },
  {
   "cell_type": "code",
   "execution_count": null,
   "metadata": {},
   "outputs": [],
   "source": [
    "all_files_ele = glob.glob(os.path.join(\"./data/raw_data/merge/electronics\", \"*.csv\"))\n",
    "all_files_fas = glob.glob(os.path.join(\"./data/raw_data/merge/fashion\", \"*.csv\"))\n",
    "\n",
    "all_files = all_files_ele + all_files_fas\n",
    "\n",
    "reviews_df = pd.concat((pd.read_csv(f, lineterminator='\\n') for f in all_files), ignore_index=True)"
   ]
  },
  {
   "cell_type": "code",
   "execution_count": null,
   "metadata": {},
   "outputs": [],
   "source": [
    "reviews_df"
   ]
  },
  {
   "cell_type": "code",
   "execution_count": null,
   "metadata": {},
   "outputs": [],
   "source": [
    "products_df_ele = pd.read_csv('./data/raw_data/merge/product_electronics.csv', encoding='utf8')\n",
    "products_df_fas = pd.read_csv('./data/raw_data/merge/product_fashion.csv', encoding='utf8')\n",
    "products_df = pd.concat([products_df_ele, products_df_fas], ignore_index=True, sort=False)\n",
    "products_df"
   ]
  },
  {
   "cell_type": "code",
   "execution_count": null,
   "metadata": {},
   "outputs": [],
   "source": [
    "df = products_df.merge(reviews_df, 'inner', left_on=['product_id', 'shop_id'], right_on=['product_id', 'shop_id'])\n",
    "\n",
    "df"
   ]
  },
  {
   "cell_type": "code",
   "execution_count": null,
   "metadata": {},
   "outputs": [],
   "source": [
    "df = df[~df.duplicated()]\n",
    "df"
   ]
  },
  {
   "cell_type": "code",
   "execution_count": null,
   "metadata": {},
   "outputs": [],
   "source": [
    "df[['product_id', 'shop_id']].nunique()"
   ]
  },
  {
   "cell_type": "code",
   "execution_count": null,
   "metadata": {},
   "outputs": [],
   "source": [
    "reviews_count_df = df.groupby(['product_id', 'shop_id'])['comment'].count().reset_index(name='count').sort_values(['count'], ascending=False)"
   ]
  },
  {
   "cell_type": "code",
   "execution_count": null,
   "metadata": {},
   "outputs": [],
   "source": [
    "df['length'] = df['description'].str.count(' ') + df['comment'].str.count(' ') + 2\n",
    "\n",
    "df[df['length'] <= 512]"
   ]
  },
  {
   "cell_type": "code",
   "execution_count": null,
   "metadata": {},
   "outputs": [],
   "source": [
    "reviews_count_df.plot(kind='hist', \n",
    "                      column='count', \n",
    "                      bins=50, \n",
    "                      title=\"Distribution of products by the number of reviews\",\n",
    "                      range=[reviews_count_df['count'].min(), 1000],\n",
    "                      xlabel='Number of reviews',\n",
    "                      legend=False\n",
    "                      )"
   ]
  },
  {
   "cell_type": "code",
   "execution_count": null,
   "metadata": {},
   "outputs": [],
   "source": [
    "reviews_count_df[(reviews_count_df['count'] >= 20) & (reviews_count_df['count'] <= 50)]['count'].sum()"
   ]
  },
  {
   "cell_type": "code",
   "execution_count": null,
   "metadata": {},
   "outputs": [],
   "source": [
    "# df.to_csv('./data/fashion_merge_25200.csv', encoding='utf-8-sig', index=False)"
   ]
  },
  {
   "cell_type": "code",
   "execution_count": null,
   "metadata": {},
   "outputs": [],
   "source": [
    "import numpy as np\n",
    "\n",
    "for idx, chunk in enumerate(np.array_split(df, 500)):\n",
    "    chunk.to_csv(f'./data/fashion_merge_25200_chunk_{idx}.csv')"
   ]
  }
 ],
 "metadata": {
  "kernelspec": {
   "display_name": "py311",
   "language": "python",
   "name": "python3"
  },
  "language_info": {
   "codemirror_mode": {
    "name": "ipython",
    "version": 3
   },
   "file_extension": ".py",
   "mimetype": "text/x-python",
   "name": "python",
   "nbconvert_exporter": "python",
   "pygments_lexer": "ipython3",
   "version": "3.11.5"
  }
 },
 "nbformat": 4,
 "nbformat_minor": 2
}
